{
 "cells": [
  {
   "cell_type": "markdown",
   "metadata": {},
   "source": [
    "# Question 1"
   ]
  },
  {
   "cell_type": "code",
   "execution_count": 1,
   "metadata": {},
   "outputs": [
    {
     "name": "stdout",
     "output_type": "stream",
     "text": [
      "5.332682251925386\n"
     ]
    }
   ],
   "source": [
    "class Parent:\n",
    "    def __init__(self, n):\n",
    "        self.no_of_sides = n\n",
    "\n",
    "class AreaTrangle(Parent):\n",
    "    def __init__(self,len_sides):\n",
    "        Parent.__init__(self,3)\n",
    "        self.len_sides = len_sides\n",
    "\n",
    "    def get_area(self):\n",
    "        a,b,c = self.len_sides\n",
    "        \n",
    "        s = (a+b+c)/2\n",
    "        return (s*(s-a)*(s-b)*(s-c)) ** 0.5\n",
    "    \n",
    "\n",
    "obj = AreaTrangle([3,6,4])\n",
    "print(obj.get_area())"
   ]
  },
  {
   "cell_type": "markdown",
   "metadata": {},
   "source": [
    "# Question 2"
   ]
  },
  {
   "cell_type": "code",
   "execution_count": 2,
   "metadata": {},
   "outputs": [],
   "source": [
    "def filter_long_words(word,number):\n",
    "    listwords = []\n",
    "    for i in range(len(word)):\n",
    "        \n",
    "        if len(word[i]) > number:\n",
    "            listwords.append(word[i])\n",
    "\n",
    "    return listwords\n"
   ]
  },
  {
   "cell_type": "code",
   "execution_count": 3,
   "metadata": {},
   "outputs": [
    {
     "data": {
      "text/plain": [
       "['agreed', 'magnificent', 'evening', 'abcd', 'arvind']"
      ]
     },
     "execution_count": 3,
     "metadata": {},
     "output_type": "execute_result"
    }
   ],
   "source": [
    "filter_long_words(['We', 'all', 'agreed' ,'it' ,'was', 'a', 'magnificent', 'evening','abcd','arvind'],3)"
   ]
  },
  {
   "cell_type": "markdown",
   "metadata": {},
   "source": [
    "# Question 3"
   ]
  },
  {
   "cell_type": "code",
   "execution_count": 4,
   "metadata": {},
   "outputs": [
    {
     "name": "stdout",
     "output_type": "stream",
     "text": [
      "[3, 11, 0, 6]\n"
     ]
    }
   ],
   "source": [
    "def map_len(words):\n",
    "    lst = []\n",
    "    for word in words:\n",
    "        lst.append(len(word))\n",
    "    return lst\n",
    "\n",
    "words = ['abc', 'all is well', '','agreed']\n",
    "print(map_len(words))"
   ]
  },
  {
   "cell_type": "markdown",
   "metadata": {},
   "source": [
    "# Question 4"
   ]
  },
  {
   "cell_type": "code",
   "execution_count": 5,
   "metadata": {},
   "outputs": [
    {
     "name": "stdout",
     "output_type": "stream",
     "text": [
      "False\n",
      "True\n",
      "True\n"
     ]
    }
   ],
   "source": [
    "def chk_vowels(char):\n",
    "    vowels = 'aeiou'\n",
    "    return char in vowels\n",
    "\n",
    "print(chk_vowels('f'))\n",
    "print(chk_vowels('o'))\n",
    "print(chk_vowels('a'))"
   ]
  }
 ],
 "metadata": {
  "kernelspec": {
   "display_name": "Python 3",
   "language": "python",
   "name": "python3"
  },
  "language_info": {
   "codemirror_mode": {
    "name": "ipython",
    "version": 3
   },
   "file_extension": ".py",
   "mimetype": "text/x-python",
   "name": "python",
   "nbconvert_exporter": "python",
   "pygments_lexer": "ipython3",
   "version": "3.6.9"
  }
 },
 "nbformat": 4,
 "nbformat_minor": 2
}
